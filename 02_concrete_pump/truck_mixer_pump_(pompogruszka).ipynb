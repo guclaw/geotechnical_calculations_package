{
 "cells": [
  {
   "cell_type": "markdown",
   "id": "ce04e6a9",
   "metadata": {
    "pycharm": {
     "name": "#%% md\n"
    }
   },
   "source": [
    "# data"
   ]
  },
  {
   "cell_type": "code",
   "execution_count": 3,
   "id": "204e4d49",
   "metadata": {
    "pycharm": {
     "name": "#%%\n"
    }
   },
   "outputs": [
    {
     "name": "stdout",
     "output_type": "stream",
     "text": [
      "160 kN 100 kN\n"
     ]
    }
   ],
   "source": [
    "import pint\n",
    "\n",
    "\n",
    "u = pint.UnitRegistry()\n",
    "u.default_format = \"~P\"\n",
    "\n",
    "\n",
    "\n",
    "# g_e = 9.81 *u.kN / u.s **2\n",
    "\n",
    "## pumo Putzmeister 28z Pump ##\n",
    "\n",
    "# https://www.conconow.com/concrete-pumps/washington-pumps/concos-putzmeister-28z-specifications/\n",
    "# Front axle weight\t10,125 lbs (4,592kg)\n",
    "# Rear axle weight\t30,012 lbs (13,613kg)\n",
    "# Approx total weight\t40,136 lbs (18,206kg)\n",
    "\n",
    "\n",
    "# Outriggers\n",
    "# Outrigger spread: L-R-front hydraulically extend out & down\t20′ 5″ (6.23m)\n",
    "# Outrigger spread: L-R-rear extend down\t8′ 7″ (2.62m)\n",
    "# Outrigger load: Front\t35,970 lbf (160 kN)\n",
    "# Outrigger load: Rear\t22,480 lbf (100 kN)\n",
    "\n",
    "F_front = 160 *u.kN\n",
    "\n",
    "F_rear = 100 *u.kN\n",
    "\n",
    "area_single_foot = 0.5 * u.m * 0.5 * u.m\n",
    "\n",
    "\n",
    "print(F_front, F_rear)"
   ]
  },
  {
   "cell_type": "markdown",
   "id": "9a25b4b9",
   "metadata": {
    "pycharm": {
     "name": "#%% md\n"
    }
   },
   "source": [
    "# Calculations\n",
    "## Stresses under outriggers"
   ]
  },
  {
   "cell_type": "code",
   "execution_count": 4,
   "id": "14f058e0",
   "metadata": {
    "pycharm": {
     "name": "#%%\n"
    }
   },
   "outputs": [
    {
     "name": "stdout",
     "output_type": "stream",
     "text": [
      "strees at front for single outrigger: 320.0 kN/m²\n",
      "strees at rear for single outrigger: 200.0 kN/m²\n"
     ]
    }
   ],
   "source": [
    "# stressess under one foot - front\n",
    "sigma_front_single_foot = 0.5 * F_front / area_single_foot\n",
    "print(f'strees at front for single outrigger: {sigma_front_single_foot}')\n",
    "\n",
    "# stressess under one foot - rear\n",
    "sigma_rear_single_foot = 0.5 * F_rear / area_single_foot\n",
    "print(f'strees at rear for single outrigger: {sigma_rear_single_foot}')"
   ]
  },
  {
   "cell_type": "code",
   "execution_count": null,
   "id": "a797fce9",
   "metadata": {
    "pycharm": {
     "name": "#%%\n"
    }
   },
   "outputs": [],
   "source": []
  }
 ],
 "metadata": {
  "kernelspec": {
   "display_name": "Python 3 (ipykernel)",
   "language": "python",
   "name": "python3"
  },
  "language_info": {
   "codemirror_mode": {
    "name": "ipython",
    "version": 3
   },
   "file_extension": ".py",
   "mimetype": "text/x-python",
   "name": "python",
   "nbconvert_exporter": "python",
   "pygments_lexer": "ipython3",
   "version": "3.10.4"
  }
 },
 "nbformat": 4,
 "nbformat_minor": 5
}