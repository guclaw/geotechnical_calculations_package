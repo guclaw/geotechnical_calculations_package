{
 "cells": [
  {
   "cell_type": "markdown",
   "id": "ce04e6a9",
   "metadata": {
    "pycharm": {
     "name": "#%% md\n"
    }
   },
   "source": [
    "# dane"
   ]
  },
  {
   "cell_type": "code",
   "execution_count": 3,
   "id": "204e4d49",
   "metadata": {
    "pycharm": {
     "name": "#%%\n"
    }
   },
   "outputs": [],
   "source": [
    "g_e = 9.81 #m/s2\n",
    "\n",
    "## Boczniak ##\n",
    "\n",
    "# masa boczniaka\n",
    "G = 62000 #kg\n",
    "\n",
    "#Uwzględnienie przeciwwagi\n",
    "Counterweight = 1\n",
    "\n",
    "# przeciwwaga\n",
    "if Counterweight:\n",
    "    CW = 11305 #kg\n",
    "else:\n",
    "    CW = 0 # kg\n",
    "#wysięg przeciwwagi od krawędzi zew boczniaka\n",
    "r_CW = 1 #m\n",
    "#szerokość gąsienic\n",
    "w = 0.9 #m\n",
    "# rozstaw osiowy gąsienic\n",
    "r = 2.6 #m\n",
    "#długość gąsienic\n",
    "l = 4 #m\n",
    "\n",
    "## Rura ##\n",
    "\n",
    "#masa rury na metr bieżący\n",
    "g_pipe = 184 #kg/m\n",
    "\n",
    "#rozstaw boczniaków\n",
    "r_crane = 20 #m\n",
    "\n",
    "# wysięg od środka dźwigu\n",
    "\n",
    "l_F = 8 #m"
   ]
  },
  {
   "cell_type": "markdown",
   "id": "9a25b4b9",
   "metadata": {
    "pycharm": {
     "name": "#%% md\n"
    }
   },
   "source": [
    "# Obliczenia"
   ]
  },
  {
   "cell_type": "code",
   "execution_count": 4,
   "id": "14f058e0",
   "metadata": {
    "pycharm": {
     "name": "#%%\n"
    }
   },
   "outputs": [
    {
     "name": "stdout",
     "output_type": "stream",
     "text": [
      "parcie pod gąsienicą z uwzględnieniem przeciwwagi bez obciążenia wynosi: 100.0 kPa\n",
      "Siła od rury 36.0 kN\n",
      "Siła od przeciwwagi 113.05 kN\n"
     ]
    }
   ],
   "source": [
    "# naprężenia pod gąsienicą bez obciążęnia (tylko masa boczniaka)\n",
    "\n",
    "sigma_0 = round(((G+CW)/w/1000*g_e/l)/2,0)\n",
    "print(f'parcie pod gąsienicą z uwzględnieniem przeciwwagi bez obciążenia wynosi: {sigma_0} kPa')\n",
    "\n",
    "# Siła od rury\n",
    "P = round(g_pipe*r_crane*g_e/1000,0)\n",
    "print(f'Siła od rury {P} kN')\n",
    "\n",
    "#Siła od przeciwwagi \n",
    "P_CW = CW/100\n",
    "print(f'Siła od przeciwwagi {P_CW} kN')"
   ]
  },
  {
   "cell_type": "markdown",
   "id": "63688d07",
   "metadata": {
    "pycharm": {
     "name": "#%% md\n"
    }
   },
   "source": [
    "## Reakcje"
   ]
  },
  {
   "cell_type": "code",
   "execution_count": 5,
   "id": "a7e9c950",
   "metadata": {
    "pycharm": {
     "name": "#%%\n"
    }
   },
   "outputs": [
    {
     "name": "stdout",
     "output_type": "stream",
     "text": [
      "Reakcja R_b wynosi: 67.0 kN\n",
      "Reakcja R_a wynosi: 82.0 kN\n",
      "naprężenia pod gąsienicą B: 119.0\n",
      "naprężenia pod gąsienicą A: 123.0\n"
     ]
    }
   ],
   "source": [
    "R_b = round((P*l_F-P_CW*r_CW)/r,0)\n",
    "print(f'Reakcja R_b wynosi: {R_b} kN')\n",
    "R_a = round(P_CW+P-R_b,0)\n",
    "print(f'Reakcja R_a wynosi: {R_a} kN')\n",
    "\n",
    "#naprężenia pod gąsienicą\n",
    "sigma_Rb = round(sigma_0 + (R_b/w/l),0)\n",
    "print(f'naprężenia pod gąsienicą B: {sigma_Rb}')\n",
    "sigma_Ra = round(sigma_0 + (R_a/w)/l,0)\n",
    "print(f'naprężenia pod gąsienicą A: {sigma_Ra}')\n"
   ]
  },
  {
   "cell_type": "code",
   "execution_count": null,
   "id": "4a35b1f4",
   "metadata": {
    "pycharm": {
     "name": "#%%\n"
    }
   },
   "outputs": [],
   "source": []
  },
  {
   "cell_type": "code",
   "execution_count": null,
   "id": "ad84a315",
   "metadata": {
    "pycharm": {
     "name": "#%%\n"
    }
   },
   "outputs": [],
   "source": []
  },
  {
   "cell_type": "code",
   "execution_count": null,
   "id": "554711f8",
   "metadata": {
    "pycharm": {
     "name": "#%%\n"
    }
   },
   "outputs": [],
   "source": []
  }
 ],
 "metadata": {
  "kernelspec": {
   "display_name": "Python 3 (ipykernel)",
   "language": "python",
   "name": "python3"
  },
  "language_info": {
   "codemirror_mode": {
    "name": "ipython",
    "version": 3
   },
   "file_extension": ".py",
   "mimetype": "text/x-python",
   "name": "python",
   "nbconvert_exporter": "python",
   "pygments_lexer": "ipython3",
   "version": "3.10.4"
  }
 },
 "nbformat": 4,
 "nbformat_minor": 5
}
